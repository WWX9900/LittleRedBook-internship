{
 "cells": [
  {
   "cell_type": "code",
   "execution_count": 2,
   "metadata": {},
   "outputs": [],
   "source": [
    "import matplotlib.pyplot as plt\n",
    "import numpy as np\n",
    "import pandas as pd\n",
    "import sklearn.linear_model\n",
    "import copy\n",
    "import seaborn as sns\n"
   ]
  },
  {
   "cell_type": "code",
   "execution_count": 4,
   "metadata": {},
   "outputs": [
    {
     "data": {
      "text/plain": [
       "<AxesSubplot:ylabel='Frequency'>"
      ]
     },
     "execution_count": 4,
     "metadata": {},
     "output_type": "execute_result"
    },
    {
     "data": {
      "image/png": "[encoded data removed]",
      "text/plain": [
       "<Figure size 432x288 with 1 Axes>"
      ]
     },
     "metadata": {
      "needs_background": "light"
     },
     "output_type": "display_data"
    }
   ],
   "source": [
    "data.plot( kind = 'hist', x = \"clusterId\", y = \"size\")"
   ]
  },
  {
   "cell_type": "code",
   "execution_count": 5,
   "metadata": {},
   "outputs": [
    {
     "data": {
      "text/plain": [
       "<AxesSubplot:title={'center':'birthYear'}, xlabel='platform'>"
      ]
     },
     "execution_count": 5,
     "metadata": {},
     "output_type": "execute_result"
    },
    {
     "data": {
      "image/png": "[encoded data removed]",
      "text/plain": [
       "<Figure size 144x360 with 1 Axes>"
      ]
     },
     "metadata": {
      "needs_background": "light"
     },
     "output_type": "display_data"
    }
   ],
   "source": [
    "data.boxplot('birthYear', 'platform', rot = 0, figsize = (2,5))"
   ]
  },
  {
   "cell_type": "code",
   "execution_count": 6,
   "metadata": {},
   "outputs": [],
   "source": [
    "fdata = data.select_dtypes(include = ['object']).copy()"
   ]
  },
  {
   "cell_type": "code",
   "execution_count": 7,
   "metadata": {},
   "outputs": [
    {
     "data": {
      "text/html": [
       "<div>\n",
       "<style scoped>\n",
       "    .dataframe tbody tr th:only-of-type {\n",
       "        vertical-align: middle;\n",
       "    }\n",
       "\n",
       "    .dataframe tbody tr th {\n",
       "        vertical-align: top;\n",
       "    }\n",
       "\n",
       "    .dataframe thead th {\n",
       "        text-align: right;\n",
       "    }\n",
       "</style>\n",
       "<table border=\"1\" class=\"dataframe\">\n",
       "  <thead>\n",
       "    <tr style=\"text-align: right;\">\n",
       "      <th></th>\n",
       "      <th>userId</th>\n",
       "      <th>discoveryId</th>\n",
       "      <th>tag</th>\n",
       "      <th>deviceId</th>\n",
       "      <th>platform</th>\n",
       "      <th>createTime</th>\n",
       "      <th>registerChannel</th>\n",
       "      <th>userBirthday</th>\n",
       "      <th>appVersion</th>\n",
       "      <th>deviceModel</th>\n",
       "      <th>osVersion</th>\n",
       "      <th>channel</th>\n",
       "      <th>campaign</th>\n",
       "      <th>frequentCity</th>\n",
       "      <th>latestCity</th>\n",
       "      <th>frequentProvince</th>\n",
       "      <th>latestProvince</th>\n",
       "      <th>userGroup</th>\n",
       "      <th>discoveryUserId</th>\n",
       "    </tr>\n",
       "  </thead>\n",
       "  <tbody>\n",
       "    <tr>\n",
       "      <th>0</th>\n",
       "      <td>60d1c12c0000000001002104</td>\n",
       "      <td>60bd82cc000000002103d138</td>\n",
       "      <td>ab_action</td>\n",
       "      <td>63D7A3A5-A610-4B6A-8804-0ACE57D7840A</td>\n",
       "      <td>iOS</td>\n",
       "      <td>2021-06-22</td>\n",
       "      <td>weixin</td>\n",
       "      <td>1998-01-01</td>\n",
       "      <td>6.91.2</td>\n",
       "      <td>iPhone 7</td>\n",
       "      <td>12.5</td>\n",
       "      <td>NaN</td>\n",
       "      <td>NaN</td>\n",
       "      <td>泉州</td>\n",
       "      <td>泉州</td>\n",
       "      <td>福建</td>\n",
       "      <td>福建</td>\n",
       "      <td>普通用户组</td>\n",
       "      <td>5bcb056338315b000142ae80</td>\n",
       "    </tr>\n",
       "    <tr>\n",
       "      <th>1</th>\n",
       "      <td>60d1e79e000000000101fd5d</td>\n",
       "      <td>60bd82cc000000002103d138</td>\n",
       "      <td>ab_action</td>\n",
       "      <td>33DA68BC-DB05-4CD8-B6B5-8DA5125322E0</td>\n",
       "      <td>iOS</td>\n",
       "      <td>2021-06-22</td>\n",
       "      <td>weixin</td>\n",
       "      <td>1999-01-01</td>\n",
       "      <td>6.91.2</td>\n",
       "      <td>iPhone 6</td>\n",
       "      <td>12.5</td>\n",
       "      <td>NaN</td>\n",
       "      <td>NaN</td>\n",
       "      <td>泉州</td>\n",
       "      <td>泉州</td>\n",
       "      <td>福建</td>\n",
       "      <td>福建</td>\n",
       "      <td>普通用户组</td>\n",
       "      <td>5bcb056338315b000142ae80</td>\n",
       "    </tr>\n",
       "    <tr>\n",
       "      <th>2</th>\n",
       "      <td>60d1f8d60000000001008229</td>\n",
       "      <td>60bd82cc000000002103d138</td>\n",
       "      <td>ab_action</td>\n",
       "      <td>2ECA1F55-FBFF-44D3-B59B-FF6BBE9DFF20</td>\n",
       "      <td>iOS</td>\n",
       "      <td>2021-06-22</td>\n",
       "      <td>weixin</td>\n",
       "      <td>2000-01-01</td>\n",
       "      <td>6.91.2</td>\n",
       "      <td>iPhone 8</td>\n",
       "      <td>12.5</td>\n",
       "      <td>NaN</td>\n",
       "      <td>NaN</td>\n",
       "      <td>泉州</td>\n",
       "      <td>泉州</td>\n",
       "      <td>福建</td>\n",
       "      <td>福建</td>\n",
       "      <td>普通用户组</td>\n",
       "      <td>5bcb056338315b000142ae80</td>\n",
       "    </tr>\n",
       "    <tr>\n",
       "      <th>3</th>\n",
       "      <td>60d1f6030000000001003e78</td>\n",
       "      <td>60bd82cc000000002103d138</td>\n",
       "      <td>ab_action</td>\n",
       "      <td>94C76E7F-1C59-4675-993F-7AC316C2D772</td>\n",
       "      <td>iOS</td>\n",
       "      <td>2021-06-22</td>\n",
       "      <td>weixin</td>\n",
       "      <td>2000-01-01</td>\n",
       "      <td>6.91.2</td>\n",
       "      <td>iPhone 8</td>\n",
       "      <td>12.5</td>\n",
       "      <td>NaN</td>\n",
       "      <td>NaN</td>\n",
       "      <td>泉州</td>\n",
       "      <td>泉州</td>\n",
       "      <td>福建</td>\n",
       "      <td>福建</td>\n",
       "      <td>普通用户组</td>\n",
       "      <td>5bcb056338315b000142ae80</td>\n",
       "    </tr>\n",
       "    <tr>\n",
       "      <th>4</th>\n",
       "      <td>60d196570000000001003fa5</td>\n",
       "      <td>60bd82cc000000002103d138</td>\n",
       "      <td>ab_action</td>\n",
       "      <td>DAFABD2B-345D-4583-8923-7F26DE976C0D</td>\n",
       "      <td>iOS</td>\n",
       "      <td>2021-06-22</td>\n",
       "      <td>weixin</td>\n",
       "      <td>1997-01-01</td>\n",
       "      <td>6.91.2</td>\n",
       "      <td>iPhone 8</td>\n",
       "      <td>12.5</td>\n",
       "      <td>NaN</td>\n",
       "      <td>NaN</td>\n",
       "      <td>泉州</td>\n",
       "      <td>泉州</td>\n",
       "      <td>福建</td>\n",
       "      <td>福建</td>\n",
       "      <td>普通用户组</td>\n",
       "      <td>5bcb056338315b000142ae80</td>\n",
       "    </tr>\n",
       "  </tbody>\n",
       "</table>\n",
       "</div>"
      ],
      "text/plain": [
       "                     userId               discoveryId        tag  \\\n",
       "0  60d1c12c0000000001002104  60bd82cc000000002103d138  ab_action   \n",
       "1  60d1e79e000000000101fd5d  60bd82cc000000002103d138  ab_action   \n",
       "2  60d1f8d60000000001008229  60bd82cc000000002103d138  ab_action   \n",
       "3  60d1f6030000000001003e78  60bd82cc000000002103d138  ab_action   \n",
       "4  60d196570000000001003fa5  60bd82cc000000002103d138  ab_action   \n",
       "\n",
       "                               deviceId platform  createTime registerChannel  \\\n",
       "0  63D7A3A5-A610-4B6A-8804-0ACE57D7840A      iOS  2021-06-22          weixin   \n",
       "1  33DA68BC-DB05-4CD8-B6B5-8DA5125322E0      iOS  2021-06-22          weixin   \n",
       "2  2ECA1F55-FBFF-44D3-B59B-FF6BBE9DFF20      iOS  2021-06-22          weixin   \n",
       "3  94C76E7F-1C59-4675-993F-7AC316C2D772      iOS  2021-06-22          weixin   \n",
       "4  DAFABD2B-345D-4583-8923-7F26DE976C0D      iOS  2021-06-22          weixin   \n",
       "\n",
       "  userBirthday appVersion deviceModel osVersion channel campaign frequentCity  \\\n",
       "0   1998-01-01     6.91.2    iPhone 7      12.5     NaN      NaN           泉州   \n",
       "1   1999-01-01     6.91.2    iPhone 6      12.5     NaN      NaN           泉州   \n",
       "2   2000-01-01     6.91.2    iPhone 8      12.5     NaN      NaN           泉州   \n",
       "3   2000-01-01     6.91.2    iPhone 8      12.5     NaN      NaN           泉州   \n",
       "4   1997-01-01     6.91.2    iPhone 8      12.5     NaN      NaN           泉州   \n",
       "\n",
       "  latestCity frequentProvince latestProvince userGroup  \\\n",
       "0         泉州               福建             福建     普通用户组   \n",
       "1         泉州               福建             福建     普通用户组   \n",
       "2         泉州               福建             福建     普通用户组   \n",
       "3         泉州               福建             福建     普通用户组   \n",
       "4         泉州               福建             福建     普通用户组   \n",
       "\n",
       "            discoveryUserId  \n",
       "0  5bcb056338315b000142ae80  \n",
       "1  5bcb056338315b000142ae80  \n",
       "2  5bcb056338315b000142ae80  \n",
       "3  5bcb056338315b000142ae80  \n",
       "4  5bcb056338315b000142ae80  "
      ]
     },
     "execution_count": 7,
     "metadata": {},
     "output_type": "execute_result"
    }
   ],
   "source": [
    "fdata.head()"
   ]
  },
  {
   "cell_type": "code",
   "execution_count": 8,
   "metadata": {},
   "outputs": [
    {
     "name": "stdout",
     "output_type": "stream",
     "text": [
      "3881\n"
     ]
    }
   ],
   "source": [
    "print(fdata.isnull().values.sum())"
   ]
  },
  {
   "cell_type": "code",
   "execution_count": 9,
   "metadata": {},
   "outputs": [
    {
     "name": "stdout",
     "output_type": "stream",
     "text": [
      "userId                0\n",
      "discoveryId           0\n",
      "tag                   0\n",
      "deviceId            235\n",
      "platform            235\n",
      "createTime            0\n",
      "registerChannel       0\n",
      "userBirthday          1\n",
      "appVersion          235\n",
      "deviceModel         235\n",
      "osVersion           235\n",
      "channel             834\n",
      "campaign            931\n",
      "frequentCity        235\n",
      "latestCity          235\n",
      "frequentProvince    235\n",
      "latestProvince      235\n",
      "userGroup             0\n",
      "discoveryUserId       0\n",
      "dtype: int64\n"
     ]
    }
   ],
   "source": [
    "print(fdata.isnull().sum())"
   ]
  },
  {
   "cell_type": "code",
   "execution_count": 10,
   "metadata": {},
   "outputs": [],
   "source": [
    "fdata = fdata.fillna(fdata['deviceId'].value_counts().index[0])"
   ]
  },
  {
   "cell_type": "code",
   "execution_count": 11,
   "metadata": {},
   "outputs": [],
   "source": [
    "fdata = fdata.fillna(fdata['platform'].value_counts().index[0])"
   ]
  },
  {
   "cell_type": "code",
   "execution_count": 12,
   "metadata": {},
   "outputs": [],
   "source": [
    "fdata = fdata.fillna(fdata['appVersion'].value_counts().index[0])"
   ]
  },
  {
   "cell_type": "code",
   "execution_count": 13,
   "metadata": {},
   "outputs": [],
   "source": [
    "fdata = fdata.fillna(fdata['deviceModel'].value_counts().index[0])"
   ]
  },
  {
   "cell_type": "code",
   "execution_count": 14,
   "metadata": {},
   "outputs": [],
   "source": [
    "fdata = fdata.fillna(fdata['osVersion'].value_counts().index[0])"
   ]
  },
  {
   "cell_type": "code",
   "execution_count": 15,
   "metadata": {},
   "outputs": [],
   "source": [
    "fdata = fdata.fillna(fdata['channel'].value_counts().index[0])"
   ]
  },
  {
   "cell_type": "code",
   "execution_count": 16,
   "metadata": {},
   "outputs": [],
   "source": [
    "fdata = fdata.fillna(fdata['campaign'].value_counts().index[0])"
   ]
  },
  {
   "cell_type": "code",
   "execution_count": 17,
   "metadata": {},
   "outputs": [],
   "source": [
    "fdata = fdata.fillna(fdata['frequentCity'].value_counts().index[0])"
   ]
  },
  {
   "cell_type": "code",
   "execution_count": 18,
   "metadata": {},
   "outputs": [],
   "source": [
    "fdata = fdata.fillna(fdata['latestCity'].value_counts().index[0])"
   ]
  },
  {
   "cell_type": "code",
   "execution_count": 19,
   "metadata": {},
   "outputs": [],
   "source": [
    "fdata = fdata.fillna(fdata['frequentProvince'].value_counts().index[0])"
   ]
  },
  {
   "cell_type": "code",
   "execution_count": 20,
   "metadata": {},
   "outputs": [],
   "source": [
    "fdata = fdata.fillna(fdata['latestProvince'].value_counts().index[0])"
   ]
  },
  {
   "cell_type": "code",
   "execution_count": 21,
   "metadata": {},
   "outputs": [
    {
     "name": "stdout",
     "output_type": "stream",
     "text": [
      "userId              0\n",
      "discoveryId         0\n",
      "tag                 0\n",
      "deviceId            0\n",
      "platform            0\n",
      "createTime          0\n",
      "registerChannel     0\n",
      "userBirthday        0\n",
      "appVersion          0\n",
      "deviceModel         0\n",
      "osVersion           0\n",
      "channel             0\n",
      "campaign            0\n",
      "frequentCity        0\n",
      "latestCity          0\n",
      "frequentProvince    0\n",
      "latestProvince      0\n",
      "userGroup           0\n",
      "discoveryUserId     0\n",
      "dtype: int64\n"
     ]
    }
   ],
   "source": [
    "print(fdata.isnull().sum())"
   ]
  },
  {
   "cell_type": "code",
   "execution_count": 22,
   "metadata": {},
   "outputs": [
    {
     "data": {
      "text/plain": [
       "Text(0, 0.5, 'number of occureance')"
      ]
     },
     "execution_count": 22,
     "metadata": {},
     "output_type": "execute_result"
    },
    {
     "data": {
      "image/png": "[encoded data removed]",
      "text/plain": [
       "<Figure size 2160x720 with 1 Axes>"
      ]
     },
     "metadata": {},
     "output_type": "display_data"
    }
   ],
   "source": [
    "id_count = fdata['discoveryId'].value_counts()\n",
    "sns.set(style=\"darkgrid\")\n",
    "plt.figure(figsize=(30, 10))\n",
    "sns.barplot(x = id_count.index, y = id_count.values, alpha=0.9)\n",
    "plt.title('Frequency Distribution of id appearance')\n",
    "plt.xlabel('discoveryId', fontsize = 12)\n",
    "plt.ylabel('number of occureance', fontsize = 12)\n"
   ]
  },
  {
   "cell_type": "code",
   "execution_count": 24,
   "metadata": {},
   "outputs": [
    {
     "ename": "ValueError",
     "evalue": "hist method requires numerical columns, nothing to plot.",
     "output_type": "error",
     "traceback": [
      "\u001b[0;31m---------------------------------------------------------------------------\u001b[0m",
      "\u001b[0;31mValueError\u001b[0m                                Traceback (most recent call last)",
      "\u001b[0;32m<ipython-input-24-d905be134ffa>\u001b[0m in \u001b[0;36m<module>\u001b[0;34m\u001b[0m\n\u001b[0;32m----> 1\u001b[0;31m \u001b[0mfdata\u001b[0m\u001b[0;34m.\u001b[0m\u001b[0mhist\u001b[0m\u001b[0;34m(\u001b[0m\u001b[0mbins\u001b[0m \u001b[0;34m=\u001b[0m \u001b[0;36m50\u001b[0m\u001b[0;34m,\u001b[0m \u001b[0mfigsize\u001b[0m\u001b[0;34m=\u001b[0m \u001b[0;34m(\u001b[0m\u001b[0;36m20\u001b[0m\u001b[0;34m,\u001b[0m \u001b[0;36m15\u001b[0m\u001b[0;34m)\u001b[0m\u001b[0;34m)\u001b[0m\u001b[0;34m\u001b[0m\u001b[0;34m\u001b[0m\u001b[0m\n\u001b[0m",
      "\u001b[0;32m/opt/anaconda3/lib/python3.8/site-packages/pandas/plotting/_core.py\u001b[0m in \u001b[0;36mhist_frame\u001b[0;34m(data, column, by, grid, xlabelsize, xrot, ylabelsize, yrot, ax, sharex, sharey, figsize, layout, bins, backend, legend, **kwargs)\u001b[0m\n\u001b[1;32m    209\u001b[0m     \"\"\"\n\u001b[1;32m    210\u001b[0m     \u001b[0mplot_backend\u001b[0m \u001b[0;34m=\u001b[0m \u001b[0m_get_plot_backend\u001b[0m\u001b[0;34m(\u001b[0m\u001b[0mbackend\u001b[0m\u001b[0;34m)\u001b[0m\u001b[0;34m\u001b[0m\u001b[0;34m\u001b[0m\u001b[0m\n\u001b[0;32m--> 211\u001b[0;31m     return plot_backend.hist_frame(\n\u001b[0m\u001b[1;32m    212\u001b[0m         \u001b[0mdata\u001b[0m\u001b[0;34m,\u001b[0m\u001b[0;34m\u001b[0m\u001b[0;34m\u001b[0m\u001b[0m\n\u001b[1;32m    213\u001b[0m         \u001b[0mcolumn\u001b[0m\u001b[0;34m=\u001b[0m\u001b[0mcolumn\u001b[0m\u001b[0;34m,\u001b[0m\u001b[0;34m\u001b[0m\u001b[0;34m\u001b[0m\u001b[0m\n",
      "\u001b[0;32m/opt/anaconda3/lib/python3.8/site-packages/pandas/plotting/_matplotlib/hist.py\u001b[0m in \u001b[0;36mhist_frame\u001b[0;34m(data, column, by, grid, xlabelsize, xrot, ylabelsize, yrot, ax, sharex, sharey, figsize, layout, bins, legend, **kwds)\u001b[0m\n\u001b[1;32m    413\u001b[0m \u001b[0;34m\u001b[0m\u001b[0m\n\u001b[1;32m    414\u001b[0m     \u001b[0;32mif\u001b[0m \u001b[0mnaxes\u001b[0m \u001b[0;34m==\u001b[0m \u001b[0;36m0\u001b[0m\u001b[0;34m:\u001b[0m\u001b[0;34m\u001b[0m\u001b[0;34m\u001b[0m\u001b[0m\n\u001b[0;32m--> 415\u001b[0;31m         \u001b[0;32mraise\u001b[0m \u001b[0mValueError\u001b[0m\u001b[0;34m(\u001b[0m\u001b[0;34m\"hist method requires numerical columns, nothing to plot.\"\u001b[0m\u001b[0;34m)\u001b[0m\u001b[0;34m\u001b[0m\u001b[0;34m\u001b[0m\u001b[0m\n\u001b[0m\u001b[1;32m    416\u001b[0m \u001b[0;34m\u001b[0m\u001b[0m\n\u001b[1;32m    417\u001b[0m     fig, axes = _subplots(\n",
      "\u001b[0;31mValueError\u001b[0m: hist method requires numerical columns, nothing to plot."
     ]
    }
   ],
   "source": [
    "fdata.hist(bins = 50, figsize= (20, 15))"
   ]
  },
  {
   "cell_type": "code",
   "execution_count": null,
   "metadata": {},
   "outputs": [],
   "source": []
  },
  {
   "cell_type": "code",
   "execution_count": null,
   "metadata": {},
   "outputs": [],
   "source": []
  },
  {
   "cell_type": "code",
   "execution_count": null,
   "metadata": {},
   "outputs": [],
   "source": []
  }
 ],
 "metadata": {
  "kernelspec": {
   "display_name": "Python 3",
   "language": "python",
   "name": "python3"
  },
  "language_info": {
   "codemirror_mode": {
    "name": "ipython",
    "version": 3
   },
   "file_extension": ".py",
   "mimetype": "text/x-python",
   "name": "python",
   "nbconvert_exporter": "python",
   "pygments_lexer": "ipython3",
   "version": "3.8.5"
  }
 },
 "nbformat": 4,
 "nbformat_minor": 4
}
